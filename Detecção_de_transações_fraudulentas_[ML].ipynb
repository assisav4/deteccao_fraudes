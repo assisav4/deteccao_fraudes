{
  "metadata": {
    "colab": {
      "provenance": [],
      "name": "Detecção de transações fraudulentas [ML]",
      "include_colab_link": true
    },
    "kernelspec": {
      "name": "python3",
      "display_name": "Python 3",
      "language": "python"
    },
    "language_info": {
      "name": "python",
      "version": "3.10.14",
      "mimetype": "text/x-python",
      "codemirror_mode": {
        "name": "ipython",
        "version": 3
      },
      "pygments_lexer": "ipython3",
      "nbconvert_exporter": "python",
      "file_extension": ".py"
    },
    "kaggle": {
      "accelerator": "none",
      "dataSources": [
        {
          "sourceId": 3240868,
          "sourceType": "datasetVersion",
          "datasetId": 1964310
        }
      ],
      "dockerImageVersionId": 30786,
      "isInternetEnabled": true,
      "language": "python",
      "sourceType": "notebook",
      "isGpuEnabled": false
    }
  },
  "nbformat_minor": 0,
  "nbformat": 4,
  "cells": [
    {
      "cell_type": "markdown",
      "metadata": {
        "id": "view-in-github",
        "colab_type": "text"
      },
      "source": [
        "<a href=\"https://colab.research.google.com/github/assisav4/deteccao_fraudes/blob/main/Detec%C3%A7%C3%A3o_de_transa%C3%A7%C3%B5es_fraudulentas_%5BML%5D.ipynb\" target=\"_parent\"><img src=\"https://colab.research.google.com/assets/colab-badge.svg\" alt=\"Open In Colab\"/></a>"
      ]
    },
    {
      "source": [
        "# IMPORTANT: RUN THIS CELL IN ORDER TO IMPORT YOUR KAGGLE DATA SOURCES,\n",
        "# THEN FEEL FREE TO DELETE THIS CELL.\n",
        "# NOTE: THIS NOTEBOOK ENVIRONMENT DIFFERS FROM KAGGLE'S PYTHON\n",
        "# ENVIRONMENT SO THERE MAY BE MISSING LIBRARIES USED BY YOUR\n",
        "# NOTEBOOK.\n",
        "import kagglehub\n",
        "chitwanmanchanda_fraudulent_transactions_data_path = kagglehub.dataset_download('chitwanmanchanda/fraudulent-transactions-data')\n",
        "\n",
        "print('Data source import complete.')\n"
      ],
      "metadata": {
        "id": "PLnuol9tKLUb"
      },
      "cell_type": "code",
      "outputs": [],
      "execution_count": null
    },
    {
      "cell_type": "markdown",
      "source": [
        "---\n",
        "# **Análise de Fraude Finaceira**\n",
        "---"
      ],
      "metadata": {
        "id": "s0v8QqQEfNlm"
      }
    },
    {
      "cell_type": "markdown",
      "source": [
        "Fraudes em transações financeiras são uma preocupação crescente para bancos, empresas de cartão de crédito, e consumidores. Estimativas sugerem que bilhões de dólares são perdidos anualmente devido a atividades fraudulentas, como clonagem de cartões, phishing, e outras formas de fraude digital. A aplicação de análise de dados e machine learning para a prevenção de fraudes oferece uma possivel solução para um problema que afeta milhões de pessoas em todo o mundo.\n",
        "\n",
        "OBS:\n",
        "este projeto tem como objetivo construir um modelo simples de machine learning para prever fraudes financeiras este nootebook esta suscetível\n",
        "a erros e metodos ineficientes."
      ],
      "metadata": {
        "id": "Y9dev2nqIkDZ"
      }
    },
    {
      "cell_type": "markdown",
      "source": [
        "# **Objetivo**"
      ],
      "metadata": {
        "id": "-sr9v-UmfQBl"
      }
    },
    {
      "cell_type": "markdown",
      "source": [
        "\n",
        "Desenvolver um modelo preditivo baseado em machine learning capaz de detectar fraudes em transações financeiras em tempo real, minimizando falsos positivos e negativos, a fim de proteger consumidores e instituições financeiras de perdas econômicas e aumentar a segurança das transações digitais.\n",
        "\n",
        "dados obtiveis no [kaggle](https://www.kaggle.com/datasets/chitwanmanchanda/fraudulent-transactions-data/data)"
      ],
      "metadata": {
        "id": "WV02FHjmcPrk"
      }
    },
    {
      "cell_type": "markdown",
      "source": [
        "# **1. Importando Bibliotecas**\n",
        "\n",
        "\n",
        "\n"
      ],
      "metadata": {
        "id": "pahBhhPBJXLI"
      }
    },
    {
      "cell_type": "code",
      "source": [
        "#analise da dados\n",
        "import pandas as pd\n",
        "import numpy as np\n",
        "import matplotlib.pyplot as plt\n",
        "import seaborn as sns\n",
        "\n",
        "#machine learnig\n",
        "import sklearn\n",
        "from sklearn.tree import DecisionTreeClassifier\n",
        "from sklearn.model_selection import train_test_split\n",
        "from sklearn.metrics import confusion_matrix\n",
        "from sklearn.metrics import accuracy_score\n"
      ],
      "metadata": {
        "id": "O8qqXNwRtPiw",
        "execution": {
          "iopub.status.busy": "2024-10-24T12:52:46.099382Z",
          "iopub.execute_input": "2024-10-24T12:52:46.100438Z",
          "iopub.status.idle": "2024-10-24T12:52:46.106537Z",
          "shell.execute_reply.started": "2024-10-24T12:52:46.100388Z",
          "shell.execute_reply": "2024-10-24T12:52:46.105396Z"
        },
        "jupyter": {
          "source_hidden": true
        },
        "trusted": true
      },
      "execution_count": 1,
      "outputs": []
    },
    {
      "cell_type": "markdown",
      "source": [
        "# **2.  Obtendo e conhecendo os dados**"
      ],
      "metadata": {
        "id": "yBIOIY-T4gZv"
      }
    },
    {
      "cell_type": "markdown",
      "source": [
        " **Legenda Dos Dados**\n",
        "\n",
        "**step** - mapeia uma unidade de tempo no mundo real. Neste caso, 1 passo equivale a 1 hora. Total de passos 744 (simulação de 30 dias).\n",
        "\n",
        "\n",
        "---\n",
        "\n",
        "\n",
        "**type** - tipos de pagamento: CASH-IN, CASH-OUT, DEBIT, PAYMENT and TRANSFER.\n",
        "\n",
        "\n",
        "---\n",
        "\n",
        "\n",
        "**amount** - valor da transação em moeda local.\n",
        "\n",
        "\n",
        "---\n",
        "\n",
        "\n",
        "**nameOrig** - cliente que iniciou a transação\n",
        "\n",
        "\n",
        "---\n",
        "\n",
        "\n",
        "**oldbalanceOrg** - antigo saldo antes da transação\n",
        "\n",
        "\n",
        "---\n",
        "\n",
        "\n",
        "**newbalanceOrig** - novo saldo após a transação\n",
        "\n",
        "\n",
        "---\n",
        "\n",
        "\n",
        "**nameDest** - cliente que é o destinatário da transação\n",
        "\n",
        "---\n",
        "\n",
        "**oldbalanceDest** - destinatário do saldo inicial antes da transação. Observe que não há informações para clientes que iniciam com M (Comerciantes).\n",
        "\n",
        "---\n",
        "\n",
        "**newbalanceDest** - novo destinatário do saldo após a transação. Observe que não há informações para clientes que iniciam com M (Comerciantes).\n",
        "\n",
        "---\n",
        "\n",
        "**isFraud** - São as transações realizadas pelos agentes fraudulentos dentro da simulação. Neste conjunto de dados específico, o comportamento fraudulento dos agentes visa lucrar assumindo o controle das contas dos clientes e tentando esvaziar os fundos transferindo para outra conta e depois sacando do sistema.\n",
        "\n",
        "\n",
        "---\n",
        "\n",
        "\n",
        "**isFlaggedFraud** - O modelo de negócio visa controlar transferências massivas de uma conta para outra e sinalizar tentativas ilegais. Uma tentativa ilegal neste conjunto de dados é uma tentativa de transferir mais de 200.000 em uma única transação."
      ],
      "metadata": {
        "id": "1NCUUlMU8Rxu"
      }
    },
    {
      "cell_type": "code",
      "source": [
        "data=pd.read_csv(\"/kaggle/input/fraudulent-transactions-data/Fraud.csv\")\n",
        "data.head()"
      ],
      "metadata": {
        "id": "MD0JflIs7t6H",
        "outputId": "7ba2f295-7964-4736-b45b-ee5901b5ab0b",
        "execution": {
          "iopub.status.busy": "2024-10-24T12:53:44.766793Z",
          "iopub.execute_input": "2024-10-24T12:53:44.767256Z",
          "iopub.status.idle": "2024-10-24T12:54:06.199859Z",
          "shell.execute_reply.started": "2024-10-24T12:53:44.767211Z",
          "shell.execute_reply": "2024-10-24T12:54:06.198485Z"
        },
        "trusted": true,
        "colab": {
          "base_uri": "https://localhost:8080/",
          "height": 304
        }
      },
      "execution_count": 2,
      "outputs": [
        {
          "output_type": "error",
          "ename": "FileNotFoundError",
          "evalue": "[Errno 2] No such file or directory: '/kaggle/input/fraudulent-transactions-data/Fraud.csv'",
          "traceback": [
            "\u001b[0;31m---------------------------------------------------------------------------\u001b[0m",
            "\u001b[0;31mFileNotFoundError\u001b[0m                         Traceback (most recent call last)",
            "\u001b[0;32m<ipython-input-2-6b32ee6a0f4d>\u001b[0m in \u001b[0;36m<cell line: 1>\u001b[0;34m()\u001b[0m\n\u001b[0;32m----> 1\u001b[0;31m \u001b[0mdata\u001b[0m\u001b[0;34m=\u001b[0m\u001b[0mpd\u001b[0m\u001b[0;34m.\u001b[0m\u001b[0mread_csv\u001b[0m\u001b[0;34m(\u001b[0m\u001b[0;34m\"/kaggle/input/fraudulent-transactions-data/Fraud.csv\"\u001b[0m\u001b[0;34m)\u001b[0m\u001b[0;34m\u001b[0m\u001b[0;34m\u001b[0m\u001b[0m\n\u001b[0m\u001b[1;32m      2\u001b[0m \u001b[0mdata\u001b[0m\u001b[0;34m.\u001b[0m\u001b[0mhead\u001b[0m\u001b[0;34m(\u001b[0m\u001b[0;34m)\u001b[0m\u001b[0;34m\u001b[0m\u001b[0;34m\u001b[0m\u001b[0m\n",
            "\u001b[0;32m/usr/local/lib/python3.10/dist-packages/pandas/io/parsers/readers.py\u001b[0m in \u001b[0;36mread_csv\u001b[0;34m(filepath_or_buffer, sep, delimiter, header, names, index_col, usecols, dtype, engine, converters, true_values, false_values, skipinitialspace, skiprows, skipfooter, nrows, na_values, keep_default_na, na_filter, verbose, skip_blank_lines, parse_dates, infer_datetime_format, keep_date_col, date_parser, date_format, dayfirst, cache_dates, iterator, chunksize, compression, thousands, decimal, lineterminator, quotechar, quoting, doublequote, escapechar, comment, encoding, encoding_errors, dialect, on_bad_lines, delim_whitespace, low_memory, memory_map, float_precision, storage_options, dtype_backend)\u001b[0m\n\u001b[1;32m   1024\u001b[0m     \u001b[0mkwds\u001b[0m\u001b[0;34m.\u001b[0m\u001b[0mupdate\u001b[0m\u001b[0;34m(\u001b[0m\u001b[0mkwds_defaults\u001b[0m\u001b[0;34m)\u001b[0m\u001b[0;34m\u001b[0m\u001b[0;34m\u001b[0m\u001b[0m\n\u001b[1;32m   1025\u001b[0m \u001b[0;34m\u001b[0m\u001b[0m\n\u001b[0;32m-> 1026\u001b[0;31m     \u001b[0;32mreturn\u001b[0m \u001b[0m_read\u001b[0m\u001b[0;34m(\u001b[0m\u001b[0mfilepath_or_buffer\u001b[0m\u001b[0;34m,\u001b[0m \u001b[0mkwds\u001b[0m\u001b[0;34m)\u001b[0m\u001b[0;34m\u001b[0m\u001b[0;34m\u001b[0m\u001b[0m\n\u001b[0m\u001b[1;32m   1027\u001b[0m \u001b[0;34m\u001b[0m\u001b[0m\n\u001b[1;32m   1028\u001b[0m \u001b[0;34m\u001b[0m\u001b[0m\n",
            "\u001b[0;32m/usr/local/lib/python3.10/dist-packages/pandas/io/parsers/readers.py\u001b[0m in \u001b[0;36m_read\u001b[0;34m(filepath_or_buffer, kwds)\u001b[0m\n\u001b[1;32m    618\u001b[0m \u001b[0;34m\u001b[0m\u001b[0m\n\u001b[1;32m    619\u001b[0m     \u001b[0;31m# Create the parser.\u001b[0m\u001b[0;34m\u001b[0m\u001b[0;34m\u001b[0m\u001b[0m\n\u001b[0;32m--> 620\u001b[0;31m     \u001b[0mparser\u001b[0m \u001b[0;34m=\u001b[0m \u001b[0mTextFileReader\u001b[0m\u001b[0;34m(\u001b[0m\u001b[0mfilepath_or_buffer\u001b[0m\u001b[0;34m,\u001b[0m \u001b[0;34m**\u001b[0m\u001b[0mkwds\u001b[0m\u001b[0;34m)\u001b[0m\u001b[0;34m\u001b[0m\u001b[0;34m\u001b[0m\u001b[0m\n\u001b[0m\u001b[1;32m    621\u001b[0m \u001b[0;34m\u001b[0m\u001b[0m\n\u001b[1;32m    622\u001b[0m     \u001b[0;32mif\u001b[0m \u001b[0mchunksize\u001b[0m \u001b[0;32mor\u001b[0m \u001b[0miterator\u001b[0m\u001b[0;34m:\u001b[0m\u001b[0;34m\u001b[0m\u001b[0;34m\u001b[0m\u001b[0m\n",
            "\u001b[0;32m/usr/local/lib/python3.10/dist-packages/pandas/io/parsers/readers.py\u001b[0m in \u001b[0;36m__init__\u001b[0;34m(self, f, engine, **kwds)\u001b[0m\n\u001b[1;32m   1618\u001b[0m \u001b[0;34m\u001b[0m\u001b[0m\n\u001b[1;32m   1619\u001b[0m         \u001b[0mself\u001b[0m\u001b[0;34m.\u001b[0m\u001b[0mhandles\u001b[0m\u001b[0;34m:\u001b[0m \u001b[0mIOHandles\u001b[0m \u001b[0;34m|\u001b[0m \u001b[0;32mNone\u001b[0m \u001b[0;34m=\u001b[0m \u001b[0;32mNone\u001b[0m\u001b[0;34m\u001b[0m\u001b[0;34m\u001b[0m\u001b[0m\n\u001b[0;32m-> 1620\u001b[0;31m         \u001b[0mself\u001b[0m\u001b[0;34m.\u001b[0m\u001b[0m_engine\u001b[0m \u001b[0;34m=\u001b[0m \u001b[0mself\u001b[0m\u001b[0;34m.\u001b[0m\u001b[0m_make_engine\u001b[0m\u001b[0;34m(\u001b[0m\u001b[0mf\u001b[0m\u001b[0;34m,\u001b[0m \u001b[0mself\u001b[0m\u001b[0;34m.\u001b[0m\u001b[0mengine\u001b[0m\u001b[0;34m)\u001b[0m\u001b[0;34m\u001b[0m\u001b[0;34m\u001b[0m\u001b[0m\n\u001b[0m\u001b[1;32m   1621\u001b[0m \u001b[0;34m\u001b[0m\u001b[0m\n\u001b[1;32m   1622\u001b[0m     \u001b[0;32mdef\u001b[0m \u001b[0mclose\u001b[0m\u001b[0;34m(\u001b[0m\u001b[0mself\u001b[0m\u001b[0;34m)\u001b[0m \u001b[0;34m->\u001b[0m \u001b[0;32mNone\u001b[0m\u001b[0;34m:\u001b[0m\u001b[0;34m\u001b[0m\u001b[0;34m\u001b[0m\u001b[0m\n",
            "\u001b[0;32m/usr/local/lib/python3.10/dist-packages/pandas/io/parsers/readers.py\u001b[0m in \u001b[0;36m_make_engine\u001b[0;34m(self, f, engine)\u001b[0m\n\u001b[1;32m   1878\u001b[0m                 \u001b[0;32mif\u001b[0m \u001b[0;34m\"b\"\u001b[0m \u001b[0;32mnot\u001b[0m \u001b[0;32min\u001b[0m \u001b[0mmode\u001b[0m\u001b[0;34m:\u001b[0m\u001b[0;34m\u001b[0m\u001b[0;34m\u001b[0m\u001b[0m\n\u001b[1;32m   1879\u001b[0m                     \u001b[0mmode\u001b[0m \u001b[0;34m+=\u001b[0m \u001b[0;34m\"b\"\u001b[0m\u001b[0;34m\u001b[0m\u001b[0;34m\u001b[0m\u001b[0m\n\u001b[0;32m-> 1880\u001b[0;31m             self.handles = get_handle(\n\u001b[0m\u001b[1;32m   1881\u001b[0m                 \u001b[0mf\u001b[0m\u001b[0;34m,\u001b[0m\u001b[0;34m\u001b[0m\u001b[0;34m\u001b[0m\u001b[0m\n\u001b[1;32m   1882\u001b[0m                 \u001b[0mmode\u001b[0m\u001b[0;34m,\u001b[0m\u001b[0;34m\u001b[0m\u001b[0;34m\u001b[0m\u001b[0m\n",
            "\u001b[0;32m/usr/local/lib/python3.10/dist-packages/pandas/io/common.py\u001b[0m in \u001b[0;36mget_handle\u001b[0;34m(path_or_buf, mode, encoding, compression, memory_map, is_text, errors, storage_options)\u001b[0m\n\u001b[1;32m    871\u001b[0m         \u001b[0;32mif\u001b[0m \u001b[0mioargs\u001b[0m\u001b[0;34m.\u001b[0m\u001b[0mencoding\u001b[0m \u001b[0;32mand\u001b[0m \u001b[0;34m\"b\"\u001b[0m \u001b[0;32mnot\u001b[0m \u001b[0;32min\u001b[0m \u001b[0mioargs\u001b[0m\u001b[0;34m.\u001b[0m\u001b[0mmode\u001b[0m\u001b[0;34m:\u001b[0m\u001b[0;34m\u001b[0m\u001b[0;34m\u001b[0m\u001b[0m\n\u001b[1;32m    872\u001b[0m             \u001b[0;31m# Encoding\u001b[0m\u001b[0;34m\u001b[0m\u001b[0;34m\u001b[0m\u001b[0m\n\u001b[0;32m--> 873\u001b[0;31m             handle = open(\n\u001b[0m\u001b[1;32m    874\u001b[0m                 \u001b[0mhandle\u001b[0m\u001b[0;34m,\u001b[0m\u001b[0;34m\u001b[0m\u001b[0;34m\u001b[0m\u001b[0m\n\u001b[1;32m    875\u001b[0m                 \u001b[0mioargs\u001b[0m\u001b[0;34m.\u001b[0m\u001b[0mmode\u001b[0m\u001b[0;34m,\u001b[0m\u001b[0;34m\u001b[0m\u001b[0;34m\u001b[0m\u001b[0m\n",
            "\u001b[0;31mFileNotFoundError\u001b[0m: [Errno 2] No such file or directory: '/kaggle/input/fraudulent-transactions-data/Fraud.csv'"
          ]
        }
      ]
    },
    {
      "cell_type": "markdown",
      "source": [
        "> verifico os metodos info() e discribe() para me introduzir aos dados"
      ],
      "metadata": {
        "id": "H_tPQ21bNdv1"
      }
    },
    {
      "cell_type": "code",
      "source": [
        "data.info()"
      ],
      "metadata": {
        "id": "8WRvJI5n8ko_",
        "execution": {
          "iopub.status.busy": "2024-10-24T13:11:12.901368Z",
          "iopub.execute_input": "2024-10-24T13:11:12.902376Z",
          "iopub.status.idle": "2024-10-24T13:11:12.935204Z",
          "shell.execute_reply.started": "2024-10-24T13:11:12.902321Z",
          "shell.execute_reply": "2024-10-24T13:11:12.933928Z"
        },
        "trusted": true
      },
      "execution_count": null,
      "outputs": []
    },
    {
      "cell_type": "code",
      "source": [
        "data.describe()"
      ],
      "metadata": {
        "id": "gILHbPEP9Hqf",
        "execution": {
          "iopub.status.busy": "2024-10-24T13:11:19.048178Z",
          "iopub.execute_input": "2024-10-24T13:11:19.04863Z",
          "iopub.status.idle": "2024-10-24T13:11:21.078563Z",
          "shell.execute_reply.started": "2024-10-24T13:11:19.048588Z",
          "shell.execute_reply": "2024-10-24T13:11:21.077334Z"
        },
        "trusted": true
      },
      "execution_count": null,
      "outputs": []
    },
    {
      "cell_type": "code",
      "source": [
        "data.describe(include=[object])"
      ],
      "metadata": {
        "id": "pHvzMz0u9OEW",
        "execution": {
          "iopub.status.busy": "2024-10-24T13:11:31.296605Z",
          "iopub.execute_input": "2024-10-24T13:11:31.297092Z",
          "iopub.status.idle": "2024-10-24T13:11:55.034003Z",
          "shell.execute_reply.started": "2024-10-24T13:11:31.297048Z",
          "shell.execute_reply": "2024-10-24T13:11:55.032705Z"
        },
        "trusted": true
      },
      "execution_count": null,
      "outputs": []
    },
    {
      "cell_type": "markdown",
      "source": [
        "> verifico a existência de nulos\n"
      ],
      "metadata": {
        "id": "P8FqLgp7PCOE"
      }
    },
    {
      "cell_type": "code",
      "source": [
        "data.isnull().sum()"
      ],
      "metadata": {
        "id": "1u6rG2Kn9idv",
        "execution": {
          "iopub.status.busy": "2024-10-24T13:13:14.242171Z",
          "iopub.execute_input": "2024-10-24T13:13:14.243457Z",
          "iopub.status.idle": "2024-10-24T13:13:16.417363Z",
          "shell.execute_reply.started": "2024-10-24T13:13:14.24339Z",
          "shell.execute_reply": "2024-10-24T13:13:16.416159Z"
        },
        "trusted": true
      },
      "execution_count": null,
      "outputs": []
    },
    {
      "cell_type": "markdown",
      "source": [
        "# **3. Analise exploratória de dados (EDA)**"
      ],
      "metadata": {
        "id": "liwHzXzCD-FO"
      }
    },
    {
      "cell_type": "code",
      "source": [
        "#nome do destinatário\n",
        "dm=data[data['nameDest'].str.startswith('M')]#comerciante\n",
        "\n",
        "dc=data[data['nameDest'].str.startswith('C')]#cliente/pessoa comun\n",
        "\n",
        "#contagem e comparação com isFraud\n",
        "\n",
        "dm_fraud=dm[dm['isFraud']==1].value_counts()\n",
        "dc_fraud=dc[dc['isFraud']==1].value_counts()\n",
        "\n",
        "dm_fraud_count=dm_fraud.sum()\n",
        "dc_fraud_count=dc_fraud.sum()\n",
        "\n",
        "tamanho_dm = dm.shape[0]\n",
        "tamanho_dc = dc.shape[0]\n",
        "\n",
        "print(f\"número de fraudes com destino a comercio {dm_fraud_count}, quantia de comerciantes totais {tamanho_dm}\")\n",
        "print(f\"número de fraudes com destino a cliente {dc_fraud_count}, quantia de clientes totais {tamanho_dc}\")\n"
      ],
      "metadata": {
        "id": "SrpaWn1eNcaD",
        "execution": {
          "iopub.status.busy": "2024-10-24T13:13:45.827986Z",
          "iopub.execute_input": "2024-10-24T13:13:45.828426Z",
          "iopub.status.idle": "2024-10-24T13:13:52.505639Z",
          "shell.execute_reply.started": "2024-10-24T13:13:45.828387Z",
          "shell.execute_reply": "2024-10-24T13:13:52.504482Z"
        },
        "trusted": true
      },
      "execution_count": null,
      "outputs": []
    },
    {
      "cell_type": "markdown",
      "source": [
        "> percebe-se que não a fraudes envolvendo comerciantes porem isso pode ser apenas uma caracteristica deste dataframe em questão então para manter o modelo de machine learning generico o mesmo não incluira tal variavel."
      ],
      "metadata": {
        "id": "qlvTZ9z7ePOm"
      }
    },
    {
      "cell_type": "code",
      "source": [
        "#step x amount\n",
        "with sns.axes_style(\"darkgrid\"):\n",
        "  plt.figure(figsize=(25, 8))\n",
        "  sns.lineplot(data=data,x=\"step\",y=\"amount\",color=\"red\")\n",
        "\n"
      ],
      "metadata": {
        "id": "GrGZmvGICZsR",
        "execution": {
          "iopub.status.busy": "2024-10-24T13:21:25.307395Z",
          "iopub.execute_input": "2024-10-24T13:21:25.307927Z",
          "iopub.status.idle": "2024-10-24T13:22:39.685731Z",
          "shell.execute_reply.started": "2024-10-24T13:21:25.307878Z",
          "shell.execute_reply": "2024-10-24T13:22:39.684428Z"
        },
        "trusted": true
      },
      "execution_count": null,
      "outputs": []
    },
    {
      "cell_type": "markdown",
      "source": [
        "> o grafico não demonstra grande variância no periodo de tempo recordado pela falta de uma data de inicio de coleta dos dados a conversão para uma data utilizavel poderia induzir o modelo de machine learnig a um erro, mais ainda sim deixarei essa variavel no modelo como uma linha do tempo."
      ],
      "metadata": {
        "id": "5swuUk1ifLSj"
      }
    },
    {
      "cell_type": "code",
      "source": [
        "#transferencias por tipo\n",
        "x=data.type.value_counts()\n",
        "with sns.axes_style(\"darkgrid\"):\n",
        "  colors = sns.color_palette('pastel')[0:5]\n",
        "  labels = [\"CASH_OUT\", \"PAYMENT\", \"CASH_IN\", \"TRANSFER\", \"DEBIT\"]\n",
        "  plt.figure(figsize=(14, 8))\n",
        "  plt.pie(x, labels = labels, colors = colors, autopct='%.0f%%',center=(1,2))\n",
        "  plt.title(\"Tipo de transação\")\n",
        "\n",
        "  plt.show()"
      ],
      "metadata": {
        "id": "w852SZCfX47j",
        "execution": {
          "iopub.status.busy": "2024-10-24T13:50:35.253253Z",
          "iopub.execute_input": "2024-10-24T13:50:35.253706Z",
          "iopub.status.idle": "2024-10-24T13:50:36.604666Z",
          "shell.execute_reply.started": "2024-10-24T13:50:35.253662Z",
          "shell.execute_reply": "2024-10-24T13:50:36.603575Z"
        },
        "trusted": true
      },
      "execution_count": null,
      "outputs": []
    },
    {
      "cell_type": "markdown",
      "source": [
        "> analisa-se apartir deste grafico de pizza que os tipos de pagamento são relativamente enquilibrado tirando o debit e transfer os demais mantem um certo inquilibrio nas transações."
      ],
      "metadata": {
        "id": "ZXupfwm1fOWQ"
      }
    },
    {
      "cell_type": "code",
      "source": [
        "# tipos de transações mais utilizados por fraudadores\n",
        "fraud_type = data[data['isFraud'] == 1]['type'].value_counts()\n",
        "print(fraud_type)\n",
        "\n",
        "with sns.axes_style(\"darkgrid\"):\n",
        "  colors = sns.color_palette('pastel')[0:2]\n",
        "  labels = [\"CASH_OUT\", \"TRANSFER\"]\n",
        "  plt.figure(figsize=(14, 8))\n",
        "  plt.pie(fraud_type, labels = labels, colors = colors, autopct='%.2f%%',center=(1,2))\n",
        "  plt.title(\"Tipo de transação fraudulenta\")\n",
        "\n",
        "  plt.show()\n"
      ],
      "metadata": {
        "id": "8Vro1WMUnxXB",
        "execution": {
          "iopub.status.busy": "2024-10-24T13:51:16.302786Z",
          "iopub.execute_input": "2024-10-24T13:51:16.303243Z",
          "iopub.status.idle": "2024-10-24T13:51:16.458985Z",
          "shell.execute_reply.started": "2024-10-24T13:51:16.303202Z",
          "shell.execute_reply": "2024-10-24T13:51:16.457674Z"
        },
        "trusted": true
      },
      "execution_count": null,
      "outputs": []
    },
    {
      "cell_type": "markdown",
      "source": [
        "> é visivel que existe um metodo preferivel para os agentes fraudulentos sendo eles o transfer e o cash_out que seriam respectivamente transferencia e sacando num caixa eletronico ."
      ],
      "metadata": {
        "id": "tbyr0rHdbVF2"
      }
    },
    {
      "cell_type": "code",
      "source": [
        "#contagems de fraude e porcentagem arredondada\n",
        "\n",
        "fraud_contagem = data.isFraud.value_counts()\n",
        "fraud_porcentagem = round(data.isFraud.value_counts()/len(data)*100,2)\n",
        "\n",
        "fraud_r = pd.DataFrame({\n",
        "    'contagem': fraud_contagem,\n",
        "    'porcentual': fraud_porcentagem\n",
        "})\n",
        "\n",
        "fraud_r\n"
      ],
      "metadata": {
        "id": "sZeBPc8jsYTk",
        "execution": {
          "iopub.status.busy": "2024-10-24T13:52:17.791322Z",
          "iopub.execute_input": "2024-10-24T13:52:17.79179Z",
          "iopub.status.idle": "2024-10-24T13:52:17.930081Z",
          "shell.execute_reply.started": "2024-10-24T13:52:17.791745Z",
          "shell.execute_reply": "2024-10-24T13:52:17.928755Z"
        },
        "trusted": true
      },
      "execution_count": null,
      "outputs": []
    },
    {
      "cell_type": "markdown",
      "source": [
        "> percebe-se que o número de fraude é bem pequeno comparando com o numero total de transações."
      ],
      "metadata": {
        "id": "SlhWyeV0tlr-"
      }
    },
    {
      "cell_type": "code",
      "source": [
        "data[\"isFlaggedFraud\"].value_counts() #analise da variavel flaggedfraud"
      ],
      "metadata": {
        "id": "1d3obatzbPXG",
        "execution": {
          "iopub.status.busy": "2024-10-24T13:53:10.274927Z",
          "iopub.execute_input": "2024-10-24T13:53:10.27538Z",
          "iopub.status.idle": "2024-10-24T13:53:10.34589Z",
          "shell.execute_reply.started": "2024-10-24T13:53:10.275336Z",
          "shell.execute_reply": "2024-10-24T13:53:10.344825Z"
        },
        "trusted": true
      },
      "execution_count": null,
      "outputs": []
    },
    {
      "cell_type": "code",
      "source": [
        "data.query(\"isFraud==1 and isFlaggedFraud==1\").shape[0]"
      ],
      "metadata": {
        "id": "RblbEqm7bPdl",
        "execution": {
          "iopub.status.busy": "2024-10-24T13:53:18.243149Z",
          "iopub.execute_input": "2024-10-24T13:53:18.243595Z",
          "iopub.status.idle": "2024-10-24T13:53:18.308654Z",
          "shell.execute_reply.started": "2024-10-24T13:53:18.243549Z",
          "shell.execute_reply": "2024-10-24T13:53:18.307538Z"
        },
        "trusted": true
      },
      "execution_count": null,
      "outputs": []
    },
    {
      "cell_type": "markdown",
      "source": [
        ">a variavel isFlaggedFraud possue 16 aparições \"positiva\" e todas elas coecidem com uma fraude porem por ser tão rara não sera incluido no modelo."
      ],
      "metadata": {
        "id": "rq-rWuUMvM0-"
      }
    },
    {
      "cell_type": "markdown",
      "source": [
        "# **4. procesamento das variaveis**"
      ],
      "metadata": {
        "id": "z060-UW1RmHM"
      }
    },
    {
      "cell_type": "code",
      "source": [
        "#removendo colunas que não serão usadas\n",
        "data_limpo=data.drop([\"nameOrig\",\n",
        "                      \"isFlaggedFraud\",\n",
        "                      \"nameDest\"],axis=1)"
      ],
      "metadata": {
        "id": "Mn3qpXSLRq3J",
        "execution": {
          "iopub.status.busy": "2024-10-24T13:54:01.299174Z",
          "iopub.execute_input": "2024-10-24T13:54:01.299651Z",
          "iopub.status.idle": "2024-10-24T13:54:01.499946Z",
          "shell.execute_reply.started": "2024-10-24T13:54:01.299606Z",
          "shell.execute_reply": "2024-10-24T13:54:01.498653Z"
        },
        "trusted": true
      },
      "execution_count": null,
      "outputs": []
    },
    {
      "cell_type": "code",
      "source": [
        "#procesamento da coluna type\n",
        "\n",
        "data_limpo['type_cash_out_nom'] = data_limpo['type'].apply(lambda type: 1 if type == 'CASH_OUT' else 0)\n",
        "data_limpo[\"type_cash_in_nom\"]=data_limpo['type'].apply(lambda type: 1 if type == 'CASH_IN' else 0)\n",
        "data_limpo[\"type_debit_nom\"]=data_limpo['type'].apply(lambda type: 1 if type == 'DEBIT' else 0)\n",
        "data_limpo[\"type_payment_nom\"]=data_limpo['type'].apply(lambda type: 1 if type == 'PAYMENT' else 0)\n",
        "data_limpo[\"type_transfer_nom\"]=data_limpo['type'].apply(lambda type: 1 if type == 'TRANSFER' else 0)\n"
      ],
      "metadata": {
        "id": "iD0sMBmnRra4",
        "execution": {
          "iopub.status.busy": "2024-10-24T13:54:21.379591Z",
          "iopub.execute_input": "2024-10-24T13:54:21.380082Z",
          "iopub.status.idle": "2024-10-24T13:54:45.98241Z",
          "shell.execute_reply.started": "2024-10-24T13:54:21.380036Z",
          "shell.execute_reply": "2024-10-24T13:54:45.981218Z"
        },
        "trusted": true
      },
      "execution_count": null,
      "outputs": []
    },
    {
      "cell_type": "code",
      "source": [
        "#procesamento das colunas numéricas padronização\n",
        "\n",
        "#amount\n",
        "mean = data['amount'].mean()\n",
        "std = data['amount'].std()\n",
        "\n",
        "data_limpo['amount_std'] = data['amount'].apply(lambda x: (x - mean) / std)\n",
        "\n",
        "#step\n",
        "mean = data['step'].mean()\n",
        "std = data['step'].std()\n",
        "\n",
        "data_limpo['step_std'] = data['step'].apply(lambda x: (x - mean) / std)\n",
        "\n",
        "#oldbalanceorg\n",
        "mean = data['oldbalanceOrg'].mean()\n",
        "std = data['oldbalanceOrg'].std()\n",
        "\n",
        "data_limpo['oldbalanceOrg_std'] = data['oldbalanceOrg'].apply(lambda x: (x - mean) / std)\n",
        "\n",
        "#newbalanceorg\n",
        "mean = data['newbalanceOrig'].mean()\n",
        "std = data['newbalanceOrig'].std()\n",
        "\n",
        "data_limpo['newbalanceOrig_std'] = data['newbalanceOrig'].apply(lambda x: (x - mean) / std)\n",
        "\n",
        "#oldbalancedest\n",
        "mean = data['oldbalanceDest'].mean()\n",
        "std = data['oldbalanceDest'].std()\n",
        "\n",
        "data_limpo['oldbalanceDest_std'] = data['oldbalanceDest'].apply(lambda x: (x - mean) / std)\n",
        "\n",
        "#newbalancedest\n",
        "mean = data['newbalanceDest'].mean()\n",
        "std = data['newbalanceDest'].std()\n",
        "\n",
        "data_limpo['newbalanceDest_std'] = data['newbalanceDest'].apply(lambda x: (x - mean) / std)\n"
      ],
      "metadata": {
        "id": "VKpH8LtICC3_",
        "execution": {
          "iopub.status.busy": "2024-10-24T13:55:08.957211Z",
          "iopub.execute_input": "2024-10-24T13:55:08.957672Z",
          "iopub.status.idle": "2024-10-24T13:55:46.257198Z",
          "shell.execute_reply.started": "2024-10-24T13:55:08.957628Z",
          "shell.execute_reply": "2024-10-24T13:55:46.256108Z"
        },
        "trusted": true
      },
      "execution_count": null,
      "outputs": []
    },
    {
      "cell_type": "code",
      "source": [
        "#removendo colunas antigas\n",
        "data_limpo=data_limpo.drop([\"type\",\n",
        "                            \"step\",\n",
        "                            \"amount\",\n",
        "                            \"oldbalanceOrg\",\n",
        "                            \"newbalanceOrig\",\n",
        "                            \"oldbalanceDest\",\n",
        "                            \"newbalanceDest\"],axis=1)"
      ],
      "metadata": {
        "id": "TOb76JhPWB1i",
        "execution": {
          "iopub.status.busy": "2024-10-24T13:58:20.303682Z",
          "iopub.execute_input": "2024-10-24T13:58:20.304128Z",
          "iopub.status.idle": "2024-10-24T13:58:20.707976Z",
          "shell.execute_reply.started": "2024-10-24T13:58:20.304087Z",
          "shell.execute_reply": "2024-10-24T13:58:20.706487Z"
        },
        "trusted": true
      },
      "execution_count": null,
      "outputs": []
    },
    {
      "cell_type": "code",
      "source": [
        "# mapa de calor comparando as correlações\n",
        "plt.figure(figsize=(12, 8))  # Define o tamanho da figura\n",
        "sns.heatmap(data_limpo.corr(), annot=True, cmap='coolwarm', fmt=\".2f\") #caucula a correlação e cria o grafico\n",
        "plt.title('Mapa de Calor da Correlação') #titulo\n",
        "plt.show()\n"
      ],
      "metadata": {
        "id": "-87w_kSJTFYJ",
        "execution": {
          "iopub.status.busy": "2024-10-24T13:58:28.216195Z",
          "iopub.execute_input": "2024-10-24T13:58:28.216627Z",
          "iopub.status.idle": "2024-10-24T13:58:32.037053Z",
          "shell.execute_reply.started": "2024-10-24T13:58:28.216582Z",
          "shell.execute_reply": "2024-10-24T13:58:32.035915Z"
        },
        "trusted": true
      },
      "execution_count": null,
      "outputs": []
    },
    {
      "cell_type": "code",
      "source": [
        "data_limpo.head()"
      ],
      "metadata": {
        "id": "eQG-l-vNTG0z",
        "execution": {
          "iopub.status.busy": "2024-10-24T13:59:27.977391Z",
          "iopub.execute_input": "2024-10-24T13:59:27.977873Z",
          "iopub.status.idle": "2024-10-24T13:59:27.996631Z",
          "shell.execute_reply.started": "2024-10-24T13:59:27.977804Z",
          "shell.execute_reply": "2024-10-24T13:59:27.9952Z"
        },
        "trusted": true
      },
      "execution_count": null,
      "outputs": []
    },
    {
      "cell_type": "markdown",
      "source": [
        "> data frame preparado :)\n"
      ],
      "metadata": {
        "id": "A5NUA-Y0UGie"
      }
    },
    {
      "cell_type": "markdown",
      "source": [
        "# **5. Criação e treinamento do modelo de arvore de decisão**"
      ],
      "metadata": {
        "id": "cBSM2OGdQCfQ"
      }
    },
    {
      "cell_type": "code",
      "source": [
        "#definição do modelo\n",
        "modelo = DecisionTreeClassifier()"
      ],
      "metadata": {
        "id": "eNDoolepHJPy",
        "execution": {
          "iopub.status.busy": "2024-10-24T14:00:07.298244Z",
          "iopub.execute_input": "2024-10-24T14:00:07.298712Z",
          "iopub.status.idle": "2024-10-24T14:00:07.304205Z",
          "shell.execute_reply.started": "2024-10-24T14:00:07.298665Z",
          "shell.execute_reply": "2024-10-24T14:00:07.30286Z"
        },
        "trusted": true
      },
      "execution_count": null,
      "outputs": []
    },
    {
      "cell_type": "code",
      "source": [
        "#divisaõ do treinamento e teste\n",
        "predictors_train, predictors_test, target_train, target_test = train_test_split(\n",
        "    data_limpo.drop(['isFraud'], axis=1),\n",
        "    data_limpo['isFraud'],\n",
        "    test_size=1/3,\n",
        "    random_state=109\n",
        ")"
      ],
      "metadata": {
        "id": "4PKNt45WQFvf",
        "execution": {
          "iopub.status.busy": "2024-10-24T14:00:26.610904Z",
          "iopub.execute_input": "2024-10-24T14:00:26.611324Z",
          "iopub.status.idle": "2024-10-24T14:00:28.948744Z",
          "shell.execute_reply.started": "2024-10-24T14:00:26.611284Z",
          "shell.execute_reply": "2024-10-24T14:00:28.947714Z"
        },
        "trusted": true
      },
      "execution_count": null,
      "outputs": []
    },
    {
      "cell_type": "code",
      "source": [
        "#treinamento do modelo\n",
        "model = modelo.fit(predictors_train, target_train)"
      ],
      "metadata": {
        "id": "9ZBabiqrRJdI",
        "execution": {
          "iopub.status.busy": "2024-10-24T14:00:35.425882Z",
          "iopub.execute_input": "2024-10-24T14:00:35.426949Z",
          "iopub.status.idle": "2024-10-24T14:01:40.134257Z",
          "shell.execute_reply.started": "2024-10-24T14:00:35.426897Z",
          "shell.execute_reply": "2024-10-24T14:01:40.133189Z"
        },
        "trusted": true
      },
      "execution_count": null,
      "outputs": []
    },
    {
      "cell_type": "code",
      "source": [
        "model.__dict__"
      ],
      "metadata": {
        "id": "UFjIbEi7HV_b",
        "execution": {
          "iopub.status.busy": "2024-10-24T14:02:14.894028Z",
          "iopub.execute_input": "2024-10-24T14:02:14.894441Z",
          "iopub.status.idle": "2024-10-24T14:02:14.903666Z",
          "shell.execute_reply.started": "2024-10-24T14:02:14.894402Z",
          "shell.execute_reply": "2024-10-24T14:02:14.902222Z"
        },
        "trusted": true
      },
      "execution_count": null,
      "outputs": []
    },
    {
      "cell_type": "markdown",
      "source": [
        "# **6.Avaliação**"
      ],
      "metadata": {
        "id": "EsMKGlYpJCez"
      }
    },
    {
      "cell_type": "code",
      "source": [
        "#matriz de confusão\n",
        "target_predicted = model.predict(predictors_test)\n",
        "\n",
        "confusion_matrix = confusion_matrix(target_test, target_predicted)\n",
        "\n",
        "plt.figure(figsize=(8, 6))\n",
        "sns.heatmap(confusion_matrix, annot=True, fmt=\"d\", cmap=\"coolwarm\", cbar=True)\n",
        "plt.xlabel(\"Previsões\")\n",
        "plt.ylabel(\"Valores Reais\")\n",
        "plt.title(\"Matriz de Confusão\")\n",
        "plt.show()"
      ],
      "metadata": {
        "id": "waOG87UW3PQx",
        "execution": {
          "iopub.status.busy": "2024-10-24T14:02:40.381014Z",
          "iopub.execute_input": "2024-10-24T14:02:40.381436Z",
          "iopub.status.idle": "2024-10-24T14:02:41.349498Z",
          "shell.execute_reply.started": "2024-10-24T14:02:40.381396Z",
          "shell.execute_reply": "2024-10-24T14:02:41.34839Z"
        },
        "trusted": true
      },
      "execution_count": null,
      "outputs": []
    },
    {
      "cell_type": "code",
      "source": [
        "#acurácia\n",
        "accuracy = accuracy_score(target_test, target_predicted)\n",
        "print(round(accuracy*100,2),\"%\")"
      ],
      "metadata": {
        "id": "kBmg5LdD8ebM",
        "execution": {
          "iopub.status.busy": "2024-10-24T14:03:32.656082Z",
          "iopub.execute_input": "2024-10-24T14:03:32.656505Z",
          "iopub.status.idle": "2024-10-24T14:03:32.876108Z",
          "shell.execute_reply.started": "2024-10-24T14:03:32.656466Z",
          "shell.execute_reply": "2024-10-24T14:03:32.874747Z"
        },
        "trusted": true
      },
      "execution_count": null,
      "outputs": []
    },
    {
      "cell_type": "markdown",
      "source": [
        "# **conclusão**\n",
        "\n",
        "o modelo de machine learnig demonstrou-se eficiente com uma acurácia de 99,97%, porém ainda acho que a espaço para melhoria se obtivesemos dados com a variavel temporal mais precisa ou até mesmo a data de iniciação desta poderia ser feito um modelo mais preciso.\n",
        "\n",
        "\n"
      ],
      "metadata": {
        "id": "by-__apQYexa"
      }
    }
  ]
}